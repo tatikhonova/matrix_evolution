{
 "cells": [
  {
   "cell_type": "markdown",
   "metadata": {},
   "source": [
    "# Оптимизация матриц с помощью эволюционного алгоритма."
   ]
  },
  {
   "cell_type": "markdown",
   "metadata": {},
   "source": [
    "Цель работы заключается в исследовании эволюционного алгоритма в задаче оптимизации матрицы на конкретном примере решения волнового уравнения на заданной сетке с помощью минимизации невязки."
   ]
  },
  {
   "cell_type": "markdown",
   "metadata": {},
   "source": [
    "Выход задачи оптимизации в нашем случае - матрица решения волнового уравнения в узлах заданной сетки.\n",
    "Фитнес-функция выглядит следующим образом: $ fitness = ||Lu - f|| + \\lambda ||bound|| $. Здесь $ L $ - волновой оператор, $ u $ - искомая матрица решения, $ f $ - вектор правой части уравнения, $ bound $ - граничные условия. "
   ]
  },
  {
   "cell_type": "markdown",
   "metadata": {},
   "source": [
    "В работе рассмотрено применение эволюционного алгоритма для решения данной задачи со сравнением разных матричных кроссоверов."
   ]
  },
  {
   "cell_type": "markdown",
   "metadata": {},
   "source": [
    "Существующие виды кроссоверов для матриц:\n",
    "\n",
    "2D-k-point кроссовер (вертикальный или горизонтальный) и их модификации.\n",
    "![jupyter](./k_point.jpg)\n",
    "Равномерный (Uniform) кроссовер.\n",
    "\n",
    "Арифметический кроссовер и его модификации.\n",
    "\n",
    "Box-кроссовер.\n",
    "![jupyter](./box.jpg)\n",
    "Географический (Geo) кроссовер, или Zig-Zag кроссовер.\n",
    "![jupyter](./geo.jpg)\n",
    "Triplet-crossover.\n",
    "![jupyter](./triplet.jpg)\n",
    "\n",
    "В данной работе будут рассмотрены k-point и геокроссовер."
   ]
  },
  {
   "cell_type": "code",
   "execution_count": 2,
   "metadata": {},
   "outputs": [],
   "source": [
    "from solver.solver_matrix import *\n",
    "import time\n",
    "from evo_algorithm import (BasicEvoStrategy,\n",
    "evolution,\n",
    "k_point_crossover,\n",
    "geo_crossover_fixed_box)\n",
    "from functools import partial\n",
    "import seaborn as sns\n",
    "import matplotlib.pyplot as plt"
   ]
  },
  {
   "cell_type": "markdown",
   "metadata": {},
   "source": [
    "Задаем сетку, на которой будем искать решение. В нашем случае это равномерная квадратная сетка от 0 до 1."
   ]
  },
  {
   "cell_type": "code",
   "execution_count": 2,
   "metadata": {},
   "outputs": [],
   "source": [
    "device = torch.device('cpu')\n",
    "\n",
    "x = torch.from_numpy(np.linspace(0, 1, 11))\n",
    "t = torch.from_numpy(np.linspace(0, 1, 11))\n",
    "\n",
    "grid = []\n",
    "grid.append(x)\n",
    "grid.append(t)\n",
    "\n",
    "grid = np.meshgrid(*grid)\n",
    "grid = torch.tensor(grid, device=device)"
   ]
  },
  {
   "cell_type": "markdown",
   "metadata": {},
   "source": [
    "Задаем вид уравнения и граничных условий. \n",
    "Уравнение выглядит так: \n",
    "$ \\\\ -\\frac{1}{4} \\frac{\\partial^2 u}{\\partial t^2} + \\frac{\\partial^2 u}{\\partial x^2} = 0 $\n",
    "$ \\\\ u|_{x=0,N} = 0 $\n",
    "$ \\\\ u|_{t=0,M} = \\sin(\\pi x) $"
   ]
  },
  {
   "cell_type": "code",
   "execution_count": 3,
   "metadata": {},
   "outputs": [],
   "source": [
    "# Initial conditions at t=0\n",
    "bnd1 = torch.cartesian_prod(x, torch.from_numpy(np.array([0], dtype=np.float64))).float().to(device)\n",
    "\n",
    "# u(0,x)=sin(pi*x)\n",
    "bndval1 = torch.sin(np.pi * bnd1[:, 0]).to(device)\n",
    "\n",
    "# Initial conditions at t=1\n",
    "bnd2 = torch.cartesian_prod(x, torch.from_numpy(np.array([1], dtype=np.float64))).float().to(device)\n",
    "\n",
    "# u(1,x)=sin(pi*x)\n",
    "bndval2 = torch.sin(np.pi * bnd2[:, 0]).to(device)\n",
    "\n",
    "# Boundary conditions at x=0\n",
    "bnd3 = torch.cartesian_prod(torch.from_numpy(np.array([0], dtype=np.float64)), t).float().to(device)\n",
    "\n",
    "# u(0,t)=0\n",
    "bndval3 = torch.from_numpy(np.zeros(len(bnd3), dtype=np.float64)).to(device)\n",
    "\n",
    "# Boundary conditions at x=1\n",
    "bnd4 = torch.cartesian_prod(torch.from_numpy(np.array([1], dtype=np.float64)), t).float().to(device)\n",
    "\n",
    "# u(1,t)=0\n",
    "bndval4 = torch.from_numpy(np.zeros(len(bnd4), dtype=np.float64)).to(device)\n",
    "\n",
    "# Putting all bconds together\n",
    "bconds = [[bnd1, bndval1], [bnd2, bndval2], [bnd3, bndval3], [bnd4, bndval4]]\n",
    "\n",
    "wave_eq = {\n",
    "    '4*d2u/dx2**1':\n",
    "        {\n",
    "            'coeff': 4,\n",
    "            'd2u/dx2': [0, 0],\n",
    "            'pow': 1\n",
    "        },\n",
    "    '-d2u/dt2**1':\n",
    "        {\n",
    "            'coeff': -1,\n",
    "            'd2u/dt2': [1,1],\n",
    "            'pow':1\n",
    "        }\n",
    "}"
   ]
  },
  {
   "cell_type": "markdown",
   "metadata": {},
   "source": [
    "Выписываем фитнес-функцию."
   ]
  },
  {
   "cell_type": "code",
   "execution_count": 4,
   "metadata": {},
   "outputs": [],
   "source": [
    "operator = op_dict_to_list(wave_eq)\n",
    "unified_operator = operator_unify(operator)\n",
    "b_prepared = bnd_prepare_matrix(bconds, grid)\n",
    "\n",
    "\n",
    "fitness_function = lambda x: matrix_loss(torch.tensor(x), grid, unified_operator, b_prepared, 10)"
   ]
  },
  {
   "cell_type": "markdown",
   "metadata": {},
   "source": [
    "Задаем начальное приближение. Начальная популяция генерируется случайным разбросом в окрестности заданного приближения."
   ]
  },
  {
   "cell_type": "code",
   "execution_count": 5,
   "metadata": {
    "scrolled": true
   },
   "outputs": [],
   "source": [
    "initial_approximation = (grid[0]-0.5)**2+(grid[1]-0.5)**2"
   ]
  },
  {
   "cell_type": "markdown",
   "metadata": {},
   "source": [
    "Задаем точное решение для расчета погрешности."
   ]
  },
  {
   "cell_type": "code",
   "execution_count": 6,
   "metadata": {},
   "outputs": [],
   "source": [
    "sln=np.genfromtxt('wave_sln_10.csv',delimiter=',')"
   ]
  },
  {
   "cell_type": "markdown",
   "metadata": {},
   "source": [
    "Решение градиентным методом LBFGS для сравнения с эволюционным алгоритмом."
   ]
  },
  {
   "cell_type": "code",
   "execution_count": 8,
   "metadata": {
    "scrolled": true
   },
   "outputs": [
    {
     "name": "stdout",
     "output_type": "stream",
     "text": [
      "run_id: 0\n",
      "mae = 0.07003696227576602\n",
      "Time taken =  42.61925768852234\n",
      "run_id: 1\n",
      "mae = 0.07003695176957031\n",
      "Time taken =  0.012734174728393555\n",
      "run_id: 2\n",
      "mae = 0.07003694825904735\n",
      "Time taken =  5.432106018066406\n",
      "run_id: 3\n",
      "mae = 0.07003694148238407\n",
      "Time taken =  5.869419574737549\n",
      "run_id: 4\n",
      "mae = 0.07003693925390228\n",
      "Time taken =  5.989303827285767\n",
      "run_id: 5\n",
      "mae = 0.07003693169628863\n",
      "Time taken =  5.926485300064087\n",
      "run_id: 6\n",
      "mae = 0.07003692968457076\n",
      "Time taken =  6.074903726577759\n",
      "run_id: 7\n",
      "mae = 0.07003692227294998\n",
      "Time taken =  5.78607964515686\n",
      "run_id: 8\n",
      "mae = 0.07003692017248368\n",
      "Time taken =  5.514930725097656\n",
      "run_id: 9\n",
      "mae = 0.07003691301296391\n",
      "Time taken =  6.058649063110352\n"
     ]
    }
   ],
   "source": [
    "mae_lbfgs = []\n",
    "time_lbfgs = []\n",
    "for run_id in range(10):\n",
    "    print(f'run_id: {run_id}')\n",
    "    \n",
    "    model = initial_approximation\n",
    "\n",
    "    start = time.time()\n",
    "    model = lbfgs_solution(model, grid, wave_eq, 10, bconds)\n",
    "    end = time.time()\n",
    "    \n",
    "    model = torch.transpose(model, 0, 1)\n",
    "    mae = np.mean(abs(model.cpu().detach().numpy()-sln))    \n",
    "    mae_lbfgs.append(mae)\n",
    "    time_lbfgs.append(end-start)\n",
    "\n",
    "    print(f'mae = {mae}')\n",
    "    print('Time taken = ', end - start)"
   ]
  },
  {
   "cell_type": "markdown",
   "metadata": {},
   "source": [
    "Решение с k_point кроссовером."
   ]
  },
  {
   "cell_type": "code",
   "execution_count": 9,
   "metadata": {
    "scrolled": true
   },
   "outputs": [
    {
     "name": "stdout",
     "output_type": "stream",
     "text": [
      "run_id: 0\n",
      "mae = 0.21946633298352444\n",
      "Time taken = 85.2087869644165\n",
      "run_id: 1\n",
      "mae = 0.21313775790120043\n",
      "Time taken = 83.88081240653992\n",
      "run_id: 2\n",
      "mae = 0.22097474782150067\n",
      "Time taken = 86.94841480255127\n",
      "run_id: 3\n",
      "mae = 0.23652725345620995\n",
      "Time taken = 85.15994763374329\n",
      "run_id: 4\n",
      "mae = 0.23872605775501182\n",
      "Time taken = 86.64304041862488\n",
      "run_id: 5\n",
      "mae = 0.25593904219305463\n",
      "Time taken = 89.78846836090088\n",
      "run_id: 6\n",
      "mae = 0.23474889787505382\n",
      "Time taken = 88.29631543159485\n",
      "run_id: 7\n",
      "mae = 0.27873426636630705\n",
      "Time taken = 88.19646453857422\n",
      "run_id: 8\n",
      "mae = 0.2117657054639794\n",
      "Time taken = 85.76767086982727\n",
      "run_id: 9\n",
      "mae = 0.19706390476510377\n",
      "Time taken = 85.52652764320374\n"
     ]
    }
   ],
   "source": [
    "evo_operators, meta_params = evolution(source_matrix=initial_approximation.cpu().detach().numpy(), crossover=partial(k_point_crossover, k=3, type='random'), fitness=fitness_function)\n",
    "\n",
    "mae_k_point = []\n",
    "time_k_point = []\n",
    "for run_id in range(10):\n",
    "    print(f'run_id: {run_id}')\n",
    "    evo_strategy = BasicEvoStrategy(evo_operators=evo_operators, meta_params=meta_params,\n",
    "                                        history=0, source_matrix=initial_approximation.cpu().detach().numpy(), real_solution=sln)\n",
    "    start = time.time()\n",
    "    evo_strategy.run()\n",
    "    end = time.time()\n",
    "    \n",
    "    mae_k_point.append(evo_strategy.mae)\n",
    "    time_k_point.append(end-start)\n",
    "    print(f'mae = {evo_strategy.mae}')\n",
    "    print(f'Time taken = {end-start}')"
   ]
  },
  {
   "cell_type": "markdown",
   "metadata": {},
   "source": [
    "Решение с геокроссовером."
   ]
  },
  {
   "cell_type": "code",
   "execution_count": 7,
   "metadata": {
    "scrolled": true
   },
   "outputs": [
    {
     "name": "stdout",
     "output_type": "stream",
     "text": [
      "run_id: 0\n",
      "mae = 0.41247904062204255\n",
      "Time taken = 86.35131907463074\n",
      "run_id: 1\n",
      "mae = 0.40777986523396526\n",
      "Time taken = 87.15465378761292\n",
      "run_id: 2\n",
      "mae = 0.40137612787790933\n",
      "Time taken = 87.78207302093506\n",
      "run_id: 3\n",
      "mae = 0.49303864016568133\n",
      "Time taken = 83.16235733032227\n",
      "run_id: 4\n",
      "mae = 0.44842327299641627\n",
      "Time taken = 82.77867603302002\n",
      "run_id: 5\n",
      "mae = 0.4025772729156555\n",
      "Time taken = 82.9055163860321\n",
      "run_id: 6\n",
      "mae = 0.46393230483401454\n",
      "Time taken = 82.81431007385254\n",
      "run_id: 7\n",
      "mae = 0.4281123964362325\n",
      "Time taken = 82.4084403514862\n",
      "run_id: 8\n",
      "mae = 0.4139839130608509\n",
      "Time taken = 83.7169828414917\n",
      "run_id: 9\n",
      "mae = 0.45332621695996284\n",
      "Time taken = 83.23549246788025\n"
     ]
    }
   ],
   "source": [
    "evo_operators, meta_params = evolution(source_matrix=initial_approximation.cpu().detach().numpy(), crossover=partial(geo_crossover_fixed_box, box_size=10), fitness=fitness_function)\n",
    "\n",
    "mae_geo_crossover = []\n",
    "time_geo_crossover =[]\n",
    "for run_id in range(10):\n",
    "    print(f'run_id: {run_id}')\n",
    "    evo_strategy = BasicEvoStrategy(evo_operators=evo_operators, meta_params=meta_params,\n",
    "                                        history=0, source_matrix=initial_approximation.cpu().detach().numpy(), real_solution=sln)\n",
    "    start = time.time()\n",
    "    evo_strategy.run()\n",
    "    end = time.time()\n",
    "    \n",
    "    mae_geo_crossover.append(evo_strategy.mae)\n",
    "    time_geo_crossover.append(end-start)\n",
    "    print(f'mae = {evo_strategy.mae}')\n",
    "    print(f'Time taken = {end-start}')"
   ]
  },
  {
   "cell_type": "code",
   "execution_count": 26,
   "metadata": {},
   "outputs": [],
   "source": [
    "mae = np.array([mae_lbfgs, mae_k_point, mae_geo_crossover])\n",
    "time_taken = np.array([time_lbfgs, time_k_point, time_geo_crossover])"
   ]
  },
  {
   "cell_type": "markdown",
   "metadata": {},
   "source": [
    "Построение ящиков с усами для сравнения методов."
   ]
  },
  {
   "cell_type": "code",
   "execution_count": 21,
   "metadata": {
    "scrolled": true
   },
   "outputs": [
    {
     "data": {
      "text/plain": [
       "Text(0, 0.5, 'mae')"
      ]
     },
     "execution_count": 21,
     "metadata": {},
     "output_type": "execute_result"
    },
    {
     "data": {
      "image/png": "[encoded data removed]",
      "text/plain": [
       "<Figure size 432x288 with 1 Axes>"
      ]
     },
     "metadata": {
      "needs_background": "light"
     },
     "output_type": "display_data"
    }
   ],
   "source": [
    "plt.boxplot(np.transpose(mae), labels=('lbfgs', 'k_point_crossover', 'geo_crossover'))\n",
    "plt.ylabel('mae')"
   ]
  },
  {
   "cell_type": "code",
   "execution_count": 27,
   "metadata": {},
   "outputs": [
    {
     "data": {
      "text/plain": [
       "Text(0, 0.5, 'Time taken')"
      ]
     },
     "execution_count": 27,
     "metadata": {},
     "output_type": "execute_result"
    },
    {
     "data": {
      "image/png": "[encoded data removed]",
      "text/plain": [
       "<Figure size 432x288 with 1 Axes>"
      ]
     },
     "metadata": {
      "needs_background": "light"
     },
     "output_type": "display_data"
    }
   ],
   "source": [
    "plt.boxplot(np.transpose(time_taken), labels=('lbfgs', 'k_point_crossover', 'geo_crossover'))\n",
    "plt.ylabel('Time taken')"
   ]
  },
  {
   "cell_type": "markdown",
   "metadata": {},
   "source": [
    "Результаты показывают, что эволюционный алгоритм не достигает нужной точности за выделенное время. При этом k_point кроссовер работает лучше, чем геокроссовер, но недостаточно хорошо.\n",
    "\n",
    "Причина низких показателей работы эволюционного алгоритма может заключаться, предположительно, в плохой настройке гиперпараметров алгоритма. В данной работе они были настроены вручную, возможно, настройка сеткой дала бы лучший результат. "
   ]
  }
 ],
 "metadata": {
  "kernelspec": {
   "display_name": "Python 3",
   "language": "python",
   "name": "python3"
  },
  "language_info": {
   "codemirror_mode": {
    "name": "ipython",
    "version": 3
   },
   "file_extension": ".py",
   "mimetype": "text/x-python",
   "name": "python",
   "nbconvert_exporter": "python",
   "pygments_lexer": "ipython3",
   "version": "3.8.5"
  }
 },
 "nbformat": 4,
 "nbformat_minor": 4
}
